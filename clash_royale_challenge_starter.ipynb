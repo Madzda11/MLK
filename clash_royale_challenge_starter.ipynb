{
 "cells": [
  {
   "cell_type": "code",
   "execution_count": null,
   "metadata": {
    "colab": {},
    "colab_type": "code",
    "id": "Yu0P5SR99PRK"
   },
   "outputs": [],
   "source": [
    "# Load necessary packages\n",
    "\n",
    "import pandas as pd\n",
    "import numpy as np\n",
    "import sklearn\n",
    "import matplotlib.pyplot as plt\n",
    "import secrets                              # imports secure module.\n",
    "\n",
    "# from google.colab import files\n",
    "\n",
    "%matplotlib inline"
   ]
  },
  {
   "cell_type": "code",
   "execution_count": null,
   "metadata": {
    "colab": {
     "base_uri": "https://localhost:8080/",
     "height": 163
    },
    "colab_type": "code",
    "id": "DTV2GZ3z9TMa",
    "outputId": "7fa16aa2-9c55-430e-c96a-7d2b1ac980c2"
   },
   "outputs": [],
   "source": [
    "# uploaded = files.upload()"
   ]
  },
  {
   "cell_type": "code",
   "execution_count": 557,
   "metadata": {
    "colab": {
     "base_uri": "https://localhost:8080/",
     "height": 204
    },
    "colab_type": "code",
    "id": "FksFJ9Kf9PRN",
    "outputId": "33141f25-b7c4-40c9-e9d4-9b549d9062f2"
   },
   "outputs": [
    {
     "data": {
      "text/html": [
       "<div>\n",
       "<style scoped>\n",
       "    .dataframe tbody tr th:only-of-type {\n",
       "        vertical-align: middle;\n",
       "    }\n",
       "\n",
       "    .dataframe tbody tr th {\n",
       "        vertical-align: top;\n",
       "    }\n",
       "\n",
       "    .dataframe thead th {\n",
       "        text-align: right;\n",
       "    }\n",
       "</style>\n",
       "<table border=\"1\" class=\"dataframe\">\n",
       "  <thead>\n",
       "    <tr style=\"text-align: right;\">\n",
       "      <th></th>\n",
       "      <th>deck</th>\n",
       "      <th>nofGames</th>\n",
       "      <th>nOfPlayers</th>\n",
       "      <th>winRate</th>\n",
       "    </tr>\n",
       "  </thead>\n",
       "  <tbody>\n",
       "    <tr>\n",
       "      <th>0</th>\n",
       "      <td>archers;arrows;baby-dragon;balloon;bats;fireba...</td>\n",
       "      <td>44</td>\n",
       "      <td>2</td>\n",
       "      <td>0.58511</td>\n",
       "    </tr>\n",
       "    <tr>\n",
       "      <th>1</th>\n",
       "      <td>archers;arrows;baby-dragon;balloon;bomber;free...</td>\n",
       "      <td>143</td>\n",
       "      <td>3</td>\n",
       "      <td>0.53767</td>\n",
       "    </tr>\n",
       "    <tr>\n",
       "      <th>2</th>\n",
       "      <td>archers;arrows;baby-dragon;balloon;bomber;gian...</td>\n",
       "      <td>61</td>\n",
       "      <td>3</td>\n",
       "      <td>0.34375</td>\n",
       "    </tr>\n",
       "    <tr>\n",
       "      <th>3</th>\n",
       "      <td>archers;arrows;baby-dragon;balloon;cannon;free...</td>\n",
       "      <td>162</td>\n",
       "      <td>1</td>\n",
       "      <td>0.49394</td>\n",
       "    </tr>\n",
       "    <tr>\n",
       "      <th>4</th>\n",
       "      <td>archers;arrows;baby-dragon;balloon;electro-wiz...</td>\n",
       "      <td>57</td>\n",
       "      <td>1</td>\n",
       "      <td>0.55833</td>\n",
       "    </tr>\n",
       "  </tbody>\n",
       "</table>\n",
       "</div>"
      ],
      "text/plain": [
       "                                                deck  nofGames  nOfPlayers  \\\n",
       "0  archers;arrows;baby-dragon;balloon;bats;fireba...        44           2   \n",
       "1  archers;arrows;baby-dragon;balloon;bomber;free...       143           3   \n",
       "2  archers;arrows;baby-dragon;balloon;bomber;gian...        61           3   \n",
       "3  archers;arrows;baby-dragon;balloon;cannon;free...       162           1   \n",
       "4  archers;arrows;baby-dragon;balloon;electro-wiz...        57           1   \n",
       "\n",
       "   winRate  \n",
       "0  0.58511  \n",
       "1  0.53767  \n",
       "2  0.34375  \n",
       "3  0.49394  \n",
       "4  0.55833  "
      ]
     },
     "execution_count": 557,
     "metadata": {},
     "output_type": "execute_result"
    }
   ],
   "source": [
    "# Read data and present\n",
    "\n",
    "train = pd.read_csv('trainingData.csv')\n",
    "valid = pd.read_csv('validationData.csv')\n",
    "train.head()"
   ]
  },
  {
   "cell_type": "code",
   "execution_count": null,
   "metadata": {
    "colab": {},
    "colab_type": "code",
    "id": "oyyozm6t9PRS",
    "outputId": "2904efb6-6726-4834-8970-4b39736722ff"
   },
   "outputs": [],
   "source": [
    "valid.head()"
   ]
  },
  {
   "cell_type": "code",
   "execution_count": 558,
   "metadata": {
    "colab": {},
    "colab_type": "code",
    "id": "v9P5_62p9PRV"
   },
   "outputs": [],
   "source": [
    "# Helper functions to preprocess data to bag-of-cards format\n",
    "\n",
    "def unnest(df, col):\n",
    "    unnested = (df.apply(lambda x: pd.Series(x[col]), axis=1)\n",
    "                .stack()\n",
    "                .reset_index(level=1, drop=True))\n",
    "    unnested.name = col\n",
    "    return df.drop(col, axis=1).join(unnested)\n",
    "\n",
    "def to_bag_of_cards(df):\n",
    "    df['ind'] = np.arange(df.shape[0]) + 1\n",
    "    df_orig = df.copy()\n",
    "    df['deck'] = df['deck'].apply(lambda d: d.split(';'))\n",
    "    df = unnest(df, 'deck')\n",
    "    df['value'] = 1\n",
    "    df_bag = df.pivot(index='ind', columns='deck', values='value')\n",
    "    df_bag[df_bag.isna()] = 0\n",
    "    df_bag = df_bag.astype('int')\n",
    "    return pd.concat([df_orig.set_index('ind'), df_bag], axis=1)"
   ]
  },
  {
   "cell_type": "code",
   "execution_count": null,
   "metadata": {
    "colab": {
     "base_uri": "https://localhost:8080/",
     "height": 386
    },
    "colab_type": "code",
    "id": "dFV7_sQb9PRW",
    "outputId": "76afae01-b67f-459c-c73f-b76eecac4885"
   },
   "outputs": [],
   "source": [
    "train = to_bag_of_cards(train)\n",
    "valid = to_bag_of_cards(valid)\n",
    "train.head()\n",
    "train"
   ]
  },
  {
   "cell_type": "code",
   "execution_count": null,
   "metadata": {
    "colab": {},
    "colab_type": "code",
    "id": "2HeOs8Xf9PRZ",
    "outputId": "260ec3cd-923a-4917-e070-02345a9c8b01"
   },
   "outputs": [],
   "source": [
    "valid.head()"
   ]
  },
  {
   "cell_type": "code",
   "execution_count": null,
   "metadata": {
    "colab": {},
    "colab_type": "code",
    "id": "O1ezBCM49PRc"
   },
   "outputs": [],
   "source": [
    "# Sort data by number of games played\n",
    "\n",
    "train_s = train.sort_values('nofGames', ascending=False)\n",
    "valid_s = valid.sort_values('nofGames', ascending=False)"
   ]
  },
  {
   "cell_type": "code",
   "execution_count": null,
   "metadata": {
    "colab": {},
    "colab_type": "code",
    "id": "J-k0Y8Rd9PRe"
   },
   "outputs": [],
   "source": [
    "# Specify example model fitting function and R squared metric\n",
    "\n",
    "from sklearn.svm import SVR\n",
    "\n",
    "def R2(x, y):\n",
    "    return 1 - np.sum(np.square(x - y)) / np.sum(np.square(y - np.mean(y)))\n",
    "\n",
    "def fit_svm(data):\n",
    "    svr = SVR(kernel='rbf', gamma=1.0/90, C=1.0, epsilon=0.02, shrinking=False)\n",
    "    svr.fit(data.drop(['deck', 'nofGames', 'nOfPlayers', 'winRate'], axis=1), data['winRate'])\n",
    "    return svr\n",
    "\n",
    "sizes = (np.arange(10) + 6) * 100"
   ]
  },
  {
   "cell_type": "code",
   "execution_count": null,
   "metadata": {
    "colab": {},
    "colab_type": "code",
    "id": "OC6hnZ3r9PRh"
   },
   "outputs": [],
   "source": [
    "# Fit and predict on models of various training sizes\n",
    "\n",
    "fit_list = list(map(lambda size: fit_svm(train.iloc[:size]), sizes))\n",
    "pred_list = list(map(lambda fit: fit.predict(valid.drop(['deck', 'nofGames', 'nOfPlayers', 'winRate'], axis=1)),\n",
    "                     fit_list))"
   ]
  },
  {
   "cell_type": "code",
   "execution_count": null,
   "metadata": {
    "colab": {
     "base_uri": "https://localhost:8080/",
     "height": 85
    },
    "colab_type": "code",
    "id": "Vj90sXjg-3Ma",
    "outputId": "ad9d75a4-f323-418e-81e5-9f7e504be503"
   },
   "outputs": [],
   "source": [
    "from sklearn.svm import NuSVR\n",
    "\n",
    "nuSVM = NuSVR(kernel='rbf', gamma=1.0/90, C=1.0, nu=0.01, shrinking=False)\n",
    "nuSVM.fit(train.drop(['deck', 'nofGames', 'nOfPlayers', 'winRate'], axis=1), train['winRate'], sample_weight=train['nofGames']/np.max(train['nofGames']))\n",
    "preds = nuSVM.predict(valid.drop(['deck', 'nofGames', 'nOfPlayers', 'winRate'], axis=1))\n",
    "print(R2(preds, valid['winRate']))\n",
    "print(len(nuSVM.support_))\n",
    "\n",
    "train2 = train.loc[nuSVM.support_]\n",
    "nuSVM2 = NuSVR(kernel='rbf', gamma=1.0/90, C=1.0, nu=0.01, shrinking=False)\n",
    "nuSVM2.fit(train2.drop(['deck', 'nofGames', 'nOfPlayers', 'winRate'], axis=1), train2['winRate'], sample_weight=train2['nofGames']/np.max(train2['nofGames']))\n",
    "preds2 = nuSVM2.predict(valid.drop(['deck', 'nofGames', 'nOfPlayers', 'winRate'], axis=1))\n",
    "print(R2(preds2, valid['winRate']))\n",
    "print(len(nuSVM2.support_))"
   ]
  },
  {
   "cell_type": "code",
   "execution_count": null,
   "metadata": {
    "colab": {
     "base_uri": "https://localhost:8080/",
     "height": 34
    },
    "colab_type": "code",
    "id": "7yKavsV3BZV9",
    "outputId": "3d286443-8d34-4c12-9d03-499462b09419"
   },
   "outputs": [],
   "source": [
    "np.max(train['nofGames']/np.max(train['nofGames']))\n"
   ]
  },
  {
   "cell_type": "code",
   "execution_count": null,
   "metadata": {
    "colab": {},
    "colab_type": "code",
    "id": "OUYxTA8E9PRj",
    "outputId": "1a11d47a-a210-433a-a97a-32f8113b2580"
   },
   "outputs": [],
   "source": [
    "# Calculate R squared scores\n",
    "\n",
    "r2 = list(map(lambda p: R2(p, valid['winRate']), pred_list))\n",
    "r2"
   ]
  },
  {
   "cell_type": "code",
   "execution_count": null,
   "metadata": {
    "colab": {},
    "colab_type": "code",
    "id": "MOvsCXys9PRm",
    "outputId": "37a09fcc-9e5e-4e47-b86e-f751555be28d"
   },
   "outputs": [],
   "source": [
    "_ = plt.plot(sizes, r2)"
   ]
  },
  {
   "cell_type": "code",
   "execution_count": null,
   "metadata": {
    "colab": {},
    "colab_type": "code",
    "id": "0JgMDFxW9PRo",
    "outputId": "cdd43229-d881-416d-cc26-fefc4d3eb593"
   },
   "outputs": [],
   "source": [
    "np.mean(r2)"
   ]
  },
  {
   "cell_type": "code",
   "execution_count": null,
   "metadata": {
    "colab": {},
    "colab_type": "code",
    "id": "raxb4Qr19PRq"
   },
   "outputs": [],
   "source": [
    "# Save hyperparameteres and selected indices in submission format\n",
    "\n",
    "with open('example_sub_python.txt', 'a') as f:\n",
    "    for size in sizes:\n",
    "        ind_text = ','.join(list(map(str, train.index.values[:size])))\n",
    "        text = ';'.join(['0.02', '1.0', str(1.0 / 90), ind_text])\n",
    "        f.write(text + '\\n')"
   ]
  },
  {
   "cell_type": "code",
   "execution_count": null,
   "metadata": {},
   "outputs": [],
   "source": [
    "def sim(x,y):\n",
    "    return (16 - x.ne(y).sum())"
   ]
  },
  {
   "cell_type": "code",
   "execution_count": null,
   "metadata": {},
   "outputs": [],
   "source": [
    "def differ(x,y):\n",
    "    return x.ne(y).sum()\n",
    "\n",
    "def distance(data,n_row,n_rand):\n",
    "    dist= pd.DataFrame(index=data.iloc[:n_row].index, columns=np.arange(n_rand))\n",
    "    secure_random = secrets.SystemRandom()\n",
    "    indeks=data.iloc[:n_row].index.tolist()\n",
    "   \n",
    "    for row in range(len(indeks)):\n",
    "          \n",
    "        random_rows=secure_random.sample(indeks,n_rand)\n",
    "        for other in range(len(random_rows)):\n",
    "        \n",
    "            dist.iloc[row,other]=differ(data.iloc[row,:],data.loc[random_rows[other]])\n",
    "    \n",
    "    return dist"
   ]
  },
  {
   "cell_type": "code",
   "execution_count": null,
   "metadata": {},
   "outputs": [],
   "source": [
    "\n",
    "def distance2(data,n_row,n_rand):\n",
    "    dist= pd.DataFrame(index=data.iloc[:n_row].index, columns=[\"sum\"])#tworze macierz\n",
    "    secure_random = secrets.SystemRandom()\n",
    "    indeks=data.iloc[:n_row].index.tolist()#indeksy obecne w danych do n_row\n",
    "    win=data[\"winRate\"] # kolumna z winRate\n",
    "    data=data.drop([\"winRate\"],axis=1)\n",
    "   \n",
    "    for row in range(len(indeks)):\n",
    "          \n",
    "        random_rows=secure_random.sample(indeks,n_rand)#losuje n_rand wektorów z danych do dalszego liczenia odległości\n",
    "        odleglosc=0\n",
    "        win_diff=0\n",
    "        for other in range(len(random_rows)):\n",
    "            odleglosc+=differ(data.iloc[row,:],data.loc[random_rows[other]]) # roznica w kartach miedzy dekami\n",
    "            win_diff+=abs(win.iloc[row] - win.loc[random_rows[other]]) # roznica na winRate\n",
    "        dist.iloc[row,0]=(win_diff*100 + odleglosc)/(n_rand+1) # łaczna srednia \"odmiennosc\" od losowych dekow\n",
    "    \n",
    "    return dist"
   ]
  },
  {
   "cell_type": "code",
   "execution_count": null,
   "metadata": {},
   "outputs": [],
   "source": [
    "def similar(data,n_row,n_rand):\n",
    "    blis= pd.DataFrame(index=data.iloc[:n_row].index, columns=[\"simi\"])#tworze macierz\n",
    "    secure_random = secrets.SystemRandom()\n",
    "    indeks=data.iloc[:n_row].index.tolist()#indeksy obecne w danych do n_row\n",
    "    win=data[\"winRate\"] # kolumna z winRate\n",
    "    data=data.drop([\"winRate\"],axis=1)\n",
    "   \n",
    "    for row in range(len(indeks)):\n",
    "          \n",
    "        random_rows=secure_random.sample(indeks,n_rand)#losuje n_rand wektorów z danych do dalszego liczenia odległości\n",
    "        bliskosc=0\n",
    "        win_diff=0\n",
    "        for other in range(len(random_rows)):\n",
    "           \n",
    "            bliskosc+=sim(data.iloc[row,:],data.loc[random_rows[other]]) # roznica w kartach miedzy dekami\n",
    "            win_diff+=abs(win.iloc[row] - win.loc[random_rows[other]]) # roznica na winRate\n",
    "        blis.iloc[row,0]=((1/win_diff)*10 + bliskosc)/(n_rand+1) # łaczna srednia \"podobnosci\" od losowych dekow\n",
    "    \n",
    "    return blis\n",
    "    "
   ]
  },
  {
   "cell_type": "code",
   "execution_count": 562,
   "metadata": {},
   "outputs": [],
   "source": [
    "sort_games=train.sort_values('nofGames', ascending=False).drop(['deck','nofGames','nOfPlayers'], axis=1)\n"
   ]
  },
  {
   "cell_type": "code",
   "execution_count": 563,
   "metadata": {},
   "outputs": [],
   "source": [
    "sims=similar(sort_games,5000,100)"
   ]
  },
  {
   "cell_type": "code",
   "execution_count": 564,
   "metadata": {},
   "outputs": [],
   "source": [
    "sims_sort=sims.sort_values(\"simi\",ascending=False)"
   ]
  },
  {
   "cell_type": "code",
   "execution_count": 565,
   "metadata": {},
   "outputs": [],
   "source": [
    "podobne_ind=sims_sort.iloc[:4000].index.tolist()"
   ]
  },
  {
   "cell_type": "code",
   "execution_count": 566,
   "metadata": {},
   "outputs": [],
   "source": [
    "different=distance2(sort_games.loc[podobne_ind],3000,100)"
   ]
  },
  {
   "cell_type": "code",
   "execution_count": null,
   "metadata": {},
   "outputs": [],
   "source": [
    "train[\"sum\"]=different[\"sum\"]"
   ]
  },
  {
   "cell_type": "code",
   "execution_count": null,
   "metadata": {},
   "outputs": [],
   "source": [
    "posort=train.sort_values('sum', ascending=False).drop(['sum'])"
   ]
  },
  {
   "cell_type": "code",
   "execution_count": null,
   "metadata": {},
   "outputs": [],
   "source": [
    "\n",
    "fit_list = list(map(lambda size: fit_svm(posort.iloc[:size]), sizes))\n",
    "pred_list = list(map(lambda fit: fit.predict(valid.drop(['deck', 'nofGames', 'nOfPlayers', 'winRate'], axis=1)),\n",
    "                     fit_list))"
   ]
  },
  {
   "cell_type": "code",
   "execution_count": null,
   "metadata": {},
   "outputs": [],
   "source": [
    "r2 = list(map(lambda p: R2(p, valid['winRate']), pred_list))\n",
    "r2"
   ]
  },
  {
   "cell_type": "code",
   "execution_count": null,
   "metadata": {},
   "outputs": [],
   "source": [
    "_ = plt.plot(sizes, r2)"
   ]
  },
  {
   "cell_type": "code",
   "execution_count": null,
   "metadata": {},
   "outputs": [],
   "source": [
    "np.mean(r2)"
   ]
  },
  {
   "cell_type": "code",
   "execution_count": null,
   "metadata": {},
   "outputs": [],
   "source": []
  },
  {
   "cell_type": "code",
   "execution_count": null,
   "metadata": {},
   "outputs": [],
   "source": []
  }
 ],
 "metadata": {
  "colab": {
   "name": "clash_royale_challenge_starter.ipynb",
   "provenance": [],
   "version": "0.3.2"
  },
  "kernelspec": {
   "display_name": "Python 3",
   "language": "python",
   "name": "python3"
  },
  "language_info": {
   "codemirror_mode": {
    "name": "ipython",
    "version": 3
   },
   "file_extension": ".py",
   "mimetype": "text/x-python",
   "name": "python",
   "nbconvert_exporter": "python",
   "pygments_lexer": "ipython3",
   "version": "3.6.7"
  }
 },
 "nbformat": 4,
 "nbformat_minor": 1
}
